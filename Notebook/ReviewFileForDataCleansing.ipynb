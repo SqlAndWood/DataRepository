{
 "cells": [
  {
   "cell_type": "markdown",
   "metadata": {},
   "source": [
    "seaborn: "
   ]
  },
  {
   "cell_type": "markdown",
   "metadata": {},
   "source": [
    "This package was created with the assistance of \n",
    "https://towardsdatascience.com/data-cleaning-in-python-the-ultimate-guide-2020-c63b88bf0a0d\n",
    "\n",
    "However, i modified the input to use PySimpleGUI for ease of selecting files on a computer. \n",
    "\n",
    "This is rough. but it works.\n"
   ]
  },
  {
   "cell_type": "code",
   "execution_count": 20,
   "metadata": {},
   "outputs": [
    {
     "ename": "SyntaxError",
     "evalue": "invalid syntax (<ipython-input-20-daa58c5ca1e0>, line 19)",
     "output_type": "error",
     "traceback": [
      "\u001b[1;36m  File \u001b[1;32m\"<ipython-input-20-daa58c5ca1e0>\"\u001b[1;36m, line \u001b[1;32m19\u001b[0m\n\u001b[1;33m    jt -t oceans16 -f roboto -fs 12 -cellw 100%\u001b[0m\n\u001b[1;37m                 ^\u001b[0m\n\u001b[1;31mSyntaxError\u001b[0m\u001b[1;31m:\u001b[0m invalid syntax\n"
     ]
    }
   ],
   "source": [
    "# import packages\n",
    "import pandas as pd\n",
    "import numpy as np\n",
    "import seaborn as sns\n",
    "\n",
    "import matplotlib.pyplot as plt\n",
    "import matplotlib.mlab as mlab\n",
    "import matplotlib\n",
    "plt.style.use('ggplot')\n",
    "from matplotlib.pyplot import figure\n",
    "\n",
    "import PySimpleGUI as sg\n",
    "import os\n",
    "import codecs # Identifies file encoding types\n",
    "\n",
    "import memory_profiler as mem_profile\n",
    "from time import perf_counter, time\n",
    "\n",
    "# Not sure how to impliment this: https://stackoverflow.com/questions/21971449/how-do-i-increase-the-cell-width-of-the-jupyter-ipython-notebook-in-my-browser\n",
    "# jt -t oceans16 -f roboto -fs 12 -cellw 100%\n"
   ]
  },
  {
   "cell_type": "code",
   "execution_count": 21,
   "metadata": {},
   "outputs": [
    {
     "data": {
      "text/html": [
       "<style>.container { width:100% !important; }</style>"
      ],
      "text/plain": [
       "<IPython.core.display.HTML object>"
      ]
     },
     "metadata": {},
     "output_type": "display_data"
    }
   ],
   "source": [
    "#Make the width of this screen 100%\n",
    "from IPython.core.display import display, HTML\n",
    "display(HTML(\"<style>.container { width:100% !important; }</style>\"))"
   ]
  },
  {
   "cell_type": "code",
   "execution_count": 6,
   "metadata": {},
   "outputs": [
    {
     "name": "stdout",
     "output_type": "stream",
     "text": [
      "Memory (Now): [169.75]MB\n"
     ]
    }
   ],
   "source": [
    "print('Memory (Now): ' + str(mem_profile.memory_usage()) + 'MB' )"
   ]
  },
  {
   "cell_type": "markdown",
   "metadata": {},
   "source": []
  },
  {
   "cell_type": "code",
   "execution_count": 7,
   "metadata": {},
   "outputs": [],
   "source": [
    "%matplotlib inline\n",
    "matplotlib.rcParams['figure.figsize'] = (12,8)\n",
    "\n",
    "pd.options.mode.chained_assignment = None"
   ]
  },
  {
   "cell_type": "code",
   "execution_count": null,
   "metadata": {},
   "outputs": [],
   "source": []
  },
  {
   "cell_type": "markdown",
   "metadata": {},
   "source": [
    "The next uses PySimpleGUI to create a simple form allowing an end user to select their own file for processing.\n",
    "This must all be maintained in the same Cell, given the 'layout' is disposed of when window = sg.Window is called."
   ]
  },
  {
   "cell_type": "code",
   "execution_count": 8,
   "metadata": {},
   "outputs": [
    {
     "name": "stdout",
     "output_type": "stream",
     "text": [
      "Memory (Before): [170.32421875]MB\n",
      "file encoding type detected:  utf-8\n",
      "Memory (After) : [5876.7421875]MB\n",
      "Elapsed time: 160.3945939 106.7446223\n"
     ]
    }
   ],
   "source": [
    "sg.ChangeLookAndFeel('Dark Blue 3')\n",
    "command_button_size = (15, 1)\n",
    "layout = [\n",
    "     [\n",
    "            # https://pypi.org/project/PySimpleGUI/4.0.0/\n",
    "            sg.Input(key='_FILEBROWSE_', enable_events=True, visible=False),\n",
    "            sg.Text('Source File:', size=(9, 1), auto_size_text=False, justification='right'),\n",
    "            sg.InputText('please select a file to process', key='_FILETOPROCESS_', text_color='gray', size=(98, 1)),\n",
    "            sg.FileBrowse(\n",
    "                button_text=\"Browse\",\n",
    "                file_types=(('CSV Files', '*.csv'), ('TXT Files', '*.txt'), ('All Files', '*.*')),\n",
    "                initial_folder=os.path.abspath(os.path.dirname(\"\")),\n",
    "                target='_FILEBROWSE_',\n",
    "                size = command_button_size\n",
    "            )\n",
    "\n",
    "        ]\n",
    " ]\n",
    "\n",
    "def detect_encoding_by_bom( default, file_name_and_path):\n",
    "\n",
    "    with open(file_name_and_path, 'rb') as f:\n",
    "        raw = f.read(4)  # will read less if the file is smaller\n",
    "\n",
    "    # BOM_UTF32_LE's start is equal to BOM_UTF16_LE so need to try the former first\n",
    "    for enc, boms in \\\n",
    "            ('utf-8-sig', (codecs.BOM_UTF8,)), \\\n",
    "            ('utf-32', (codecs.BOM_UTF32_LE, codecs.BOM_UTF32_BE)), \\\n",
    "            ('utf-16', (codecs.BOM_UTF16_LE, codecs.BOM_UTF16_BE)):\n",
    "\n",
    "        if any(raw.startswith(bom) for bom in boms):\n",
    "            if enc != \"\":\n",
    "                return enc\n",
    "            \n",
    "    print('file encoding type detected: ', default)\n",
    "\n",
    "    return default\n",
    "\n",
    "def read_file( file_name_and_path):\n",
    "\n",
    "    data = pd.DataFrame() # initialize empty df\n",
    "#     df['filename'] = file_name_and_path\n",
    "#     data = data.append(df)\n",
    "    \n",
    "    # only one in 100 files needs this, but it is enough to cause mischief if it is not implemented.\n",
    "    encoding = detect_encoding_by_bom('utf-8', file_name_and_path)\n",
    "\n",
    "    chunks = pd.read_csv(file_name_and_path, chunksize=10000, encoding=encoding )\n",
    "    data = pd.concat(chunks)\n",
    "    \n",
    "    return data\n",
    "\n",
    "\n",
    "df = pd.DataFrame()\n",
    "    \n",
    "window = sg.Window('Data Cleansing', layout, finalize=True)\n",
    "while True:\n",
    "\n",
    "    event, values = window.Read()\n",
    "   \n",
    "    \n",
    "    # Allow the app to quit when you press X (close)\n",
    "    if event in (sg.WIN_CLOSED, 'Exit', None):\n",
    "        # self.updateStatusBar(window, event, values)\n",
    "        break\n",
    "        \n",
    "    \n",
    "    # Action #1: Without a File browse, nothing else will occur.\n",
    "    if event == '_FILEBROWSE_':\n",
    "        \n",
    "        # Start the stopwatch / counter \n",
    "        t1_start = perf_counter()  \n",
    "        \n",
    "        print('Memory (Before): ' + str(mem_profile.memory_usage()) + 'MB' )\n",
    "        file_name_and_path = values.get('_FILEBROWSE_')\n",
    "        \n",
    "        window['_FILETOPROCESS_'](text_color='black') # short hand for updating an element.\n",
    "        window['_FILETOPROCESS_'](file_name_and_path)# short hand for updating an element.\n",
    "\n",
    "        import time\n",
    "        time.sleep(.600)\n",
    "        \n",
    "        df = read_file( file_name_and_path)\n",
    "        window.Close()\n",
    "        \n",
    "        print('Memory (After) : ' + str(mem_profile.memory_usage()) + 'MB')\n",
    "        \n",
    "        # Stop the stopwatch / counter \n",
    "        t1_stop = perf_counter() \n",
    "        print(\"Elapsed time:\", t1_stop, t1_start) \n",
    "        \n",
    "        window.Close()\n",
    "\n",
    "window.Close()\n"
   ]
  },
  {
   "cell_type": "code",
   "execution_count": 9,
   "metadata": {},
   "outputs": [
    {
     "name": "stdout",
     "output_type": "stream",
     "text": [
      "d\n"
     ]
    }
   ],
   "source": [
    "print('d')"
   ]
  },
  {
   "cell_type": "code",
   "execution_count": 10,
   "metadata": {},
   "outputs": [
    {
     "name": "stdout",
     "output_type": "stream",
     "text": [
      "(14867924, 16)\n",
      "ADDRESS_DETAIL_PID            object\n",
      "STREET_LOCALITY_PID           object\n",
      "LOCALITY_PID                  object\n",
      "FullAddressDescription        object\n",
      "BUILDING_NAME                 object\n",
      "StreetNumber                  object\n",
      "STREET_NAME                   object\n",
      "STREET_TYPE_CODE              object\n",
      "STREET_SUFFIX_DESCRIPTION     object\n",
      "LOCALITY_NAME                 object\n",
      "STATE_ABBREVIATION            object\n",
      "POSTCODE                       int64\n",
      "LATITUDE                     float64\n",
      "LONGITUDE                    float64\n",
      "STREET_CLASS_DESCRIPTION      object\n",
      "DATE_CREATED                  object\n",
      "dtype: object\n"
     ]
    }
   ],
   "source": [
    "#print(df)\n",
    "print(df.shape)\n",
    "print(df.dtypes)"
   ]
  },
  {
   "cell_type": "code",
   "execution_count": 15,
   "metadata": {},
   "outputs": [
    {
     "name": "stdout",
     "output_type": "stream",
     "text": [
      "Numeric Columns: \n",
      " ['POSTCODE' 'LATITUDE' 'LONGITUDE']\n"
     ]
    }
   ],
   "source": [
    "# select numeric columns\n",
    "df_numeric = df.select_dtypes(include=[np.number])\n",
    "numeric_cols = df_numeric.columns.values\n",
    "print('Numeric Columns: \\n' , numeric_cols)"
   ]
  },
  {
   "cell_type": "code",
   "execution_count": 14,
   "metadata": {},
   "outputs": [
    {
     "name": "stdout",
     "output_type": "stream",
     "text": [
      "Non Numeric Columns: \n",
      " ['ADDRESS_DETAIL_PID' 'STREET_LOCALITY_PID' 'LOCALITY_PID'\n",
      " 'FullAddressDescription' 'BUILDING_NAME' 'StreetNumber' 'STREET_NAME'\n",
      " 'STREET_TYPE_CODE' 'STREET_SUFFIX_DESCRIPTION' 'LOCALITY_NAME'\n",
      " 'STATE_ABBREVIATION' 'STREET_CLASS_DESCRIPTION' 'DATE_CREATED']\n"
     ]
    }
   ],
   "source": [
    "# select non numeric columns\n",
    "df_non_numeric = df.select_dtypes(exclude=[np.number])\n",
    "non_numeric_cols = df_non_numeric.columns.values\n",
    "print('Non Numeric Columns: \\n', non_numeric_cols)"
   ]
  },
  {
   "cell_type": "code",
   "execution_count": 16,
   "metadata": {},
   "outputs": [
    {
     "data": {
      "text/plain": [
       "<matplotlib.axes._subplots.AxesSubplot at 0x1f3971f21c8>"
      ]
     },
     "execution_count": 16,
     "metadata": {},
     "output_type": "execute_result"
    },
    {
     "data": {
      "image/png": "[encoded data removed]",
      "text/plain": [
       "<Figure size 864x576 with 2 Axes>"
      ]
     },
     "metadata": {
      "needs_background": "light"
     },
     "output_type": "display_data"
    }
   ],
   "source": [
    "# Create a heat map: yellow indicates missing.   Large datasets may take a long time.\n",
    "cols = df.columns[:30] # first 30 columns\n",
    "colours = ['#000099', '#ffff00'] # specify the colours - yellow is missing. blue is not missing.\n",
    "sns.heatmap(df[cols].isnull(), cmap=sns.color_palette(colours))"
   ]
  },
  {
   "cell_type": "code",
   "execution_count": 18,
   "metadata": {},
   "outputs": [
    {
     "name": "stdout",
     "output_type": "stream",
     "text": [
      "ADDRESS_DETAIL_PID - 0.0%\n",
      "STREET_LOCALITY_PID - 0.0%\n",
      "LOCALITY_PID - 0.0%\n",
      "FullAddressDescription - 0.0%\n",
      "BUILDING_NAME - 95.0%\n",
      "StreetNumber - 2.0%\n",
      "STREET_NAME - 0.0%\n",
      "STREET_TYPE_CODE - 1.0%\n",
      "STREET_SUFFIX_DESCRIPTION - 99.0%\n",
      "LOCALITY_NAME - 0.0%\n",
      "STATE_ABBREVIATION - 0.0%\n",
      "POSTCODE - 0.0%\n",
      "LATITUDE - 0.0%\n",
      "LONGITUDE - 0.0%\n",
      "STREET_CLASS_DESCRIPTION - 0.0%\n",
      "DATE_CREATED - 0.0%\n"
     ]
    }
   ],
   "source": [
    "# Missing Data Percentage List:\n",
    "# if it's a larger dataset and the visualization takes too long can do this.\n",
    "# % of missing.\n",
    "for col in df.columns:\n",
    "    pct_missing = np.mean(df[col].isnull())\n",
    "    print('{} - {}%'.format(col, round(pct_missing*100)))"
   ]
  },
  {
   "cell_type": "code",
   "execution_count": 19,
   "metadata": {},
   "outputs": [
    {
     "name": "stdout",
     "output_type": "stream",
     "text": [
      "created missing indicator for: BUILDING_NAME\n",
      "created missing indicator for: StreetNumber\n",
      "created missing indicator for: STREET_TYPE_CODE\n",
      "created missing indicator for: STREET_SUFFIX_DESCRIPTION\n"
     ]
    },
    {
     "data": {
      "text/plain": [
       "<matplotlib.axes._subplots.AxesSubplot at 0x1f45cbb5508>"
      ]
     },
     "execution_count": 19,
     "metadata": {},
     "output_type": "execute_result"
    },
    {
     "data": {
      "image/png": "[encoded data removed]",
      "text/plain": [
       "<Figure size 864x576 with 1 Axes>"
      ]
     },
     "metadata": {
      "needs_background": "light"
     },
     "output_type": "display_data"
    }
   ],
   "source": [
    "#Missing Data Histogram\n",
    "\n",
    "# first create missing indicator for features with missing data\n",
    "for col in df.columns:\n",
    "    missing = df[col].isnull()\n",
    "    num_missing = np.sum(missing)\n",
    "    \n",
    "    if num_missing > 0:  \n",
    "        print('created missing indicator for: {}'.format(col))\n",
    "        df['{}_ismissing'.format(col)] = missing\n",
    "\n",
    "\n",
    "# then based on the indicator, plot the histogram of missing values\n",
    "ismissing_cols = [col for col in df.columns if 'ismissing' in col]\n",
    "df['num_missing'] = df[ismissing_cols].sum(axis=1)\n",
    "\n",
    "df['num_missing'].value_counts().reset_index().sort_values(by='index').plot.bar(x='index', y='num_missing')\n"
   ]
  },
  {
   "cell_type": "code",
   "execution_count": null,
   "metadata": {},
   "outputs": [],
   "source": [
    "# not sure how process intensive this would be!\n",
    "for col in df.columns:\n",
    "    print('col', col)\n",
    "#     df[col].hist(bins=100)\n",
    "#     df.boxplot(column=[ df[col]])\n",
    "    df[df[col]].describe()\n",
    "#     df[df[col]].value_counts().plot.bar()\n"
   ]
  },
  {
   "cell_type": "code",
   "execution_count": 24,
   "metadata": {},
   "outputs": [
    {
     "name": "stdout",
     "output_type": "stream",
     "text": [
      "STREET_SUFFIX_DESCRIPTION: 99.46791%\n",
      "NaN           14788813\n",
      "WEST             21599\n",
      "EAST             19679\n",
      "NORTH            18898\n",
      "SOUTH            18316\n",
      "EXTENSION          267\n",
      "MALL               210\n",
      "CENTRAL            126\n",
      "DEVIATION            8\n",
      "SOUTH EAST           6\n",
      "SOUTH WEST           1\n",
      "ON                   1\n",
      "Name: STREET_SUFFIX_DESCRIPTION, dtype: int64\n",
      "\n",
      "STREET_CLASS_DESCRIPTION: 99.71097%\n",
      "Confirmed      14824951\n",
      "Unconfirmed       42973\n",
      "Name: STREET_CLASS_DESCRIPTION, dtype: int64\n",
      "\n",
      "StreetNumber_ismissing: 97.94087%\n",
      "False    14561774\n",
      "True       306150\n",
      "Name: StreetNumber_ismissing, dtype: int64\n",
      "\n",
      "STREET_TYPE_CODE_ismissing: 99.04030%\n",
      "False    14725237\n",
      "True       142687\n",
      "Name: STREET_TYPE_CODE_ismissing, dtype: int64\n",
      "\n",
      "STREET_SUFFIX_DESCRIPTION_ismissing: 99.46791%\n",
      "True     14788813\n",
      "False       79111\n",
      "Name: STREET_SUFFIX_DESCRIPTION_ismissing, dtype: int64\n",
      "\n"
     ]
    }
   ],
   "source": [
    "# Unnecessary type #1: Uninformative / Repetitive\n",
    "num_rows = len(df.index)\n",
    "low_information_cols = [] #\n",
    "\n",
    "for col in df.columns:\n",
    "    cnts = df[col].value_counts(dropna=False)\n",
    "    top_pct = (cnts/num_rows).iloc[0]\n",
    "    \n",
    "    if top_pct > 0.95:\n",
    "        low_information_cols.append(col)\n",
    "        print('{0}: {1:.5f}%'.format(col, top_pct*100))\n",
    "        print(cnts)\n",
    "        print()\n",
    "    "
   ]
  },
  {
   "cell_type": "markdown",
   "metadata": {},
   "source": [
    "How to deal with missing data? Options\n",
    "Solution #1: Drop the Observation\n",
    "Solution #2: Drop the Feature\n",
    "Solution #3: Impute the Missing\n",
    "Solution #4: Replace the Missing\n"
   ]
  },
  {
   "cell_type": "code",
   "execution_count": null,
   "metadata": {},
   "outputs": [],
   "source": [
    "# we know that column 'id' is unique, but what if we drop it?\n",
    "df_dedupped = df.drop('ADDRESS_DETAIL_PID', axis=1).drop_duplicates()\n",
    "df_dedupped = df_dedupped.drop('STREET_LOCALITY_PID', axis=1).drop_duplicates()\n",
    "# df_dedupped = df_dedupped.drop('LOCALITY_PID', axis=1).drop_duplicates()\n",
    "\n",
    "\n",
    "\n",
    "# identify duplicate rows\n",
    "print(df.shape)\n",
    "print(df_dedupped.shape)"
   ]
  },
  {
   "cell_type": "code",
   "execution_count": null,
   "metadata": {},
   "outputs": [],
   "source": []
  }
 ],
 "metadata": {
  "kernelspec": {
   "display_name": "Python 3",
   "language": "python",
   "name": "python3"
  },
  "language_info": {
   "codemirror_mode": {
    "name": "ipython",
    "version": 3
   },
   "file_extension": ".py",
   "mimetype": "text/x-python",
   "name": "python",
   "nbconvert_exporter": "python",
   "pygments_lexer": "ipython3",
   "version": "3.7.5"
  }
 },
 "nbformat": 4,
 "nbformat_minor": 4
}
